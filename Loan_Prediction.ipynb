{
  "nbformat": 4,
  "nbformat_minor": 0,
  "metadata": {
    "colab": {
      "provenance": []
    },
    "kernelspec": {
      "name": "python3",
      "display_name": "Python 3"
    },
    "language_info": {
      "name": "python"
    },
    "accelerator": "GPU",
    "gpuClass": "standard"
  },
  "cells": [
    {
      "cell_type": "code",
      "execution_count": null,
      "metadata": {
        "id": "Tm-wY4oRo-Rk"
      },
      "outputs": [],
      "source": [
        "import numpy as np\n",
        "import pandas as pd\n",
        "import seaborn as sns\n",
        "import matplotlib.pyplot as plt"
      ]
    },
    {
      "cell_type": "code",
      "source": [
        "from google.colab import drive\n",
        "drive.mount(\"/content/drive\")"
      ],
      "metadata": {
        "colab": {
          "base_uri": "https://localhost:8080/"
        },
        "id": "hiciwB8-qYPb",
        "outputId": "f73f152d-6209-4177-ef08-afeacd066b94"
      },
      "execution_count": null,
      "outputs": [
        {
          "output_type": "stream",
          "name": "stdout",
          "text": [
            "Drive already mounted at /content/drive; to attempt to forcibly remount, call drive.mount(\"/content/drive\", force_remount=True).\n"
          ]
        }
      ]
    },
    {
      "cell_type": "code",
      "source": [
        "DATASET_PATH_FMT = \"/content/drive/MyDrive/Datasets/Loan_Eligibility/{}\"\n",
        "\n",
        "TRAIN_DATA_PATH = DATASET_PATH_FMT.format(\"p_train.csv\")\n",
        "TEST_DATA_PATH = DATASET_PATH_FMT.format(\"p_test.csv\")"
      ],
      "metadata": {
        "id": "Quw1nwimsGrY"
      },
      "execution_count": null,
      "outputs": []
    },
    {
      "cell_type": "code",
      "source": [
        "train = pd.read_csv(TRAIN_DATA_PATH)\n",
        "test = pd.read_csv(TEST_DATA_PATH)"
      ],
      "metadata": {
        "id": "FxfghSAHsn9q"
      },
      "execution_count": null,
      "outputs": []
    },
    {
      "cell_type": "code",
      "source": [
        "train"
      ],
      "metadata": {
        "colab": {
          "base_uri": "https://localhost:8080/",
          "height": 488
        },
        "id": "ARlCMFvitP1S",
        "outputId": "137e3d95-eb8c-472c-a9a1-b2ef7c0ec65e"
      },
      "execution_count": null,
      "outputs": [
        {
          "output_type": "execute_result",
          "data": {
            "text/plain": [
              "     Gender  Married  Dependents  Education  Self_Employed  ApplicantIncome  \\\n",
              "0         1        0           0          0              0             5849   \n",
              "1         1        1           1          0              0             4583   \n",
              "2         1        1           0          0              1             3000   \n",
              "3         1        1           0          1              0             2583   \n",
              "4         1        0           0          0              0             6000   \n",
              "..      ...      ...         ...        ...            ...              ...   \n",
              "609       0        0           0          0              0             2900   \n",
              "610       1        1           3          0              0             4106   \n",
              "611       1        1           1          0              0             8072   \n",
              "612       1        1           2          0              0             7583   \n",
              "613       0        0           0          0              1             4583   \n",
              "\n",
              "     CoapplicantIncome  LoanAmount  Loan_Amount_Term  Credit_History  \\\n",
              "0                  0.0       128.0             360.0             1.0   \n",
              "1               1508.0       128.0             360.0             1.0   \n",
              "2                  0.0        66.0             360.0             1.0   \n",
              "3               2358.0       120.0             360.0             1.0   \n",
              "4                  0.0       141.0             360.0             1.0   \n",
              "..                 ...         ...               ...             ...   \n",
              "609                0.0        71.0             360.0             1.0   \n",
              "610                0.0        40.0             180.0             1.0   \n",
              "611              240.0       253.0             360.0             1.0   \n",
              "612                0.0       187.0             360.0             1.0   \n",
              "613                0.0       133.0             360.0             0.0   \n",
              "\n",
              "     Property_Area  Loan_Status  Total_Income  \n",
              "0                2            1        5849.0  \n",
              "1                0            0        6091.0  \n",
              "2                2            1        3000.0  \n",
              "3                2            1        4941.0  \n",
              "4                2            1        6000.0  \n",
              "..             ...          ...           ...  \n",
              "609              0            1        2900.0  \n",
              "610              0            1        4106.0  \n",
              "611              2            1        8312.0  \n",
              "612              2            1        7583.0  \n",
              "613              1            0        4583.0  \n",
              "\n",
              "[614 rows x 13 columns]"
            ],
            "text/html": [
              "\n",
              "  <div id=\"df-7748d97c-85a3-4f7c-9a18-b392ff6d0993\">\n",
              "    <div class=\"colab-df-container\">\n",
              "      <div>\n",
              "<style scoped>\n",
              "    .dataframe tbody tr th:only-of-type {\n",
              "        vertical-align: middle;\n",
              "    }\n",
              "\n",
              "    .dataframe tbody tr th {\n",
              "        vertical-align: top;\n",
              "    }\n",
              "\n",
              "    .dataframe thead th {\n",
              "        text-align: right;\n",
              "    }\n",
              "</style>\n",
              "<table border=\"1\" class=\"dataframe\">\n",
              "  <thead>\n",
              "    <tr style=\"text-align: right;\">\n",
              "      <th></th>\n",
              "      <th>Gender</th>\n",
              "      <th>Married</th>\n",
              "      <th>Dependents</th>\n",
              "      <th>Education</th>\n",
              "      <th>Self_Employed</th>\n",
              "      <th>ApplicantIncome</th>\n",
              "      <th>CoapplicantIncome</th>\n",
              "      <th>LoanAmount</th>\n",
              "      <th>Loan_Amount_Term</th>\n",
              "      <th>Credit_History</th>\n",
              "      <th>Property_Area</th>\n",
              "      <th>Loan_Status</th>\n",
              "      <th>Total_Income</th>\n",
              "    </tr>\n",
              "  </thead>\n",
              "  <tbody>\n",
              "    <tr>\n",
              "      <th>0</th>\n",
              "      <td>1</td>\n",
              "      <td>0</td>\n",
              "      <td>0</td>\n",
              "      <td>0</td>\n",
              "      <td>0</td>\n",
              "      <td>5849</td>\n",
              "      <td>0.0</td>\n",
              "      <td>128.0</td>\n",
              "      <td>360.0</td>\n",
              "      <td>1.0</td>\n",
              "      <td>2</td>\n",
              "      <td>1</td>\n",
              "      <td>5849.0</td>\n",
              "    </tr>\n",
              "    <tr>\n",
              "      <th>1</th>\n",
              "      <td>1</td>\n",
              "      <td>1</td>\n",
              "      <td>1</td>\n",
              "      <td>0</td>\n",
              "      <td>0</td>\n",
              "      <td>4583</td>\n",
              "      <td>1508.0</td>\n",
              "      <td>128.0</td>\n",
              "      <td>360.0</td>\n",
              "      <td>1.0</td>\n",
              "      <td>0</td>\n",
              "      <td>0</td>\n",
              "      <td>6091.0</td>\n",
              "    </tr>\n",
              "    <tr>\n",
              "      <th>2</th>\n",
              "      <td>1</td>\n",
              "      <td>1</td>\n",
              "      <td>0</td>\n",
              "      <td>0</td>\n",
              "      <td>1</td>\n",
              "      <td>3000</td>\n",
              "      <td>0.0</td>\n",
              "      <td>66.0</td>\n",
              "      <td>360.0</td>\n",
              "      <td>1.0</td>\n",
              "      <td>2</td>\n",
              "      <td>1</td>\n",
              "      <td>3000.0</td>\n",
              "    </tr>\n",
              "    <tr>\n",
              "      <th>3</th>\n",
              "      <td>1</td>\n",
              "      <td>1</td>\n",
              "      <td>0</td>\n",
              "      <td>1</td>\n",
              "      <td>0</td>\n",
              "      <td>2583</td>\n",
              "      <td>2358.0</td>\n",
              "      <td>120.0</td>\n",
              "      <td>360.0</td>\n",
              "      <td>1.0</td>\n",
              "      <td>2</td>\n",
              "      <td>1</td>\n",
              "      <td>4941.0</td>\n",
              "    </tr>\n",
              "    <tr>\n",
              "      <th>4</th>\n",
              "      <td>1</td>\n",
              "      <td>0</td>\n",
              "      <td>0</td>\n",
              "      <td>0</td>\n",
              "      <td>0</td>\n",
              "      <td>6000</td>\n",
              "      <td>0.0</td>\n",
              "      <td>141.0</td>\n",
              "      <td>360.0</td>\n",
              "      <td>1.0</td>\n",
              "      <td>2</td>\n",
              "      <td>1</td>\n",
              "      <td>6000.0</td>\n",
              "    </tr>\n",
              "    <tr>\n",
              "      <th>...</th>\n",
              "      <td>...</td>\n",
              "      <td>...</td>\n",
              "      <td>...</td>\n",
              "      <td>...</td>\n",
              "      <td>...</td>\n",
              "      <td>...</td>\n",
              "      <td>...</td>\n",
              "      <td>...</td>\n",
              "      <td>...</td>\n",
              "      <td>...</td>\n",
              "      <td>...</td>\n",
              "      <td>...</td>\n",
              "      <td>...</td>\n",
              "    </tr>\n",
              "    <tr>\n",
              "      <th>609</th>\n",
              "      <td>0</td>\n",
              "      <td>0</td>\n",
              "      <td>0</td>\n",
              "      <td>0</td>\n",
              "      <td>0</td>\n",
              "      <td>2900</td>\n",
              "      <td>0.0</td>\n",
              "      <td>71.0</td>\n",
              "      <td>360.0</td>\n",
              "      <td>1.0</td>\n",
              "      <td>0</td>\n",
              "      <td>1</td>\n",
              "      <td>2900.0</td>\n",
              "    </tr>\n",
              "    <tr>\n",
              "      <th>610</th>\n",
              "      <td>1</td>\n",
              "      <td>1</td>\n",
              "      <td>3</td>\n",
              "      <td>0</td>\n",
              "      <td>0</td>\n",
              "      <td>4106</td>\n",
              "      <td>0.0</td>\n",
              "      <td>40.0</td>\n",
              "      <td>180.0</td>\n",
              "      <td>1.0</td>\n",
              "      <td>0</td>\n",
              "      <td>1</td>\n",
              "      <td>4106.0</td>\n",
              "    </tr>\n",
              "    <tr>\n",
              "      <th>611</th>\n",
              "      <td>1</td>\n",
              "      <td>1</td>\n",
              "      <td>1</td>\n",
              "      <td>0</td>\n",
              "      <td>0</td>\n",
              "      <td>8072</td>\n",
              "      <td>240.0</td>\n",
              "      <td>253.0</td>\n",
              "      <td>360.0</td>\n",
              "      <td>1.0</td>\n",
              "      <td>2</td>\n",
              "      <td>1</td>\n",
              "      <td>8312.0</td>\n",
              "    </tr>\n",
              "    <tr>\n",
              "      <th>612</th>\n",
              "      <td>1</td>\n",
              "      <td>1</td>\n",
              "      <td>2</td>\n",
              "      <td>0</td>\n",
              "      <td>0</td>\n",
              "      <td>7583</td>\n",
              "      <td>0.0</td>\n",
              "      <td>187.0</td>\n",
              "      <td>360.0</td>\n",
              "      <td>1.0</td>\n",
              "      <td>2</td>\n",
              "      <td>1</td>\n",
              "      <td>7583.0</td>\n",
              "    </tr>\n",
              "    <tr>\n",
              "      <th>613</th>\n",
              "      <td>0</td>\n",
              "      <td>0</td>\n",
              "      <td>0</td>\n",
              "      <td>0</td>\n",
              "      <td>1</td>\n",
              "      <td>4583</td>\n",
              "      <td>0.0</td>\n",
              "      <td>133.0</td>\n",
              "      <td>360.0</td>\n",
              "      <td>0.0</td>\n",
              "      <td>1</td>\n",
              "      <td>0</td>\n",
              "      <td>4583.0</td>\n",
              "    </tr>\n",
              "  </tbody>\n",
              "</table>\n",
              "<p>614 rows × 13 columns</p>\n",
              "</div>\n",
              "      <button class=\"colab-df-convert\" onclick=\"convertToInteractive('df-7748d97c-85a3-4f7c-9a18-b392ff6d0993')\"\n",
              "              title=\"Convert this dataframe to an interactive table.\"\n",
              "              style=\"display:none;\">\n",
              "        \n",
              "  <svg xmlns=\"http://www.w3.org/2000/svg\" height=\"24px\"viewBox=\"0 0 24 24\"\n",
              "       width=\"24px\">\n",
              "    <path d=\"M0 0h24v24H0V0z\" fill=\"none\"/>\n",
              "    <path d=\"M18.56 5.44l.94 2.06.94-2.06 2.06-.94-2.06-.94-.94-2.06-.94 2.06-2.06.94zm-11 1L8.5 8.5l.94-2.06 2.06-.94-2.06-.94L8.5 2.5l-.94 2.06-2.06.94zm10 10l.94 2.06.94-2.06 2.06-.94-2.06-.94-.94-2.06-.94 2.06-2.06.94z\"/><path d=\"M17.41 7.96l-1.37-1.37c-.4-.4-.92-.59-1.43-.59-.52 0-1.04.2-1.43.59L10.3 9.45l-7.72 7.72c-.78.78-.78 2.05 0 2.83L4 21.41c.39.39.9.59 1.41.59.51 0 1.02-.2 1.41-.59l7.78-7.78 2.81-2.81c.8-.78.8-2.07 0-2.86zM5.41 20L4 18.59l7.72-7.72 1.47 1.35L5.41 20z\"/>\n",
              "  </svg>\n",
              "      </button>\n",
              "      \n",
              "  <style>\n",
              "    .colab-df-container {\n",
              "      display:flex;\n",
              "      flex-wrap:wrap;\n",
              "      gap: 12px;\n",
              "    }\n",
              "\n",
              "    .colab-df-convert {\n",
              "      background-color: #E8F0FE;\n",
              "      border: none;\n",
              "      border-radius: 50%;\n",
              "      cursor: pointer;\n",
              "      display: none;\n",
              "      fill: #1967D2;\n",
              "      height: 32px;\n",
              "      padding: 0 0 0 0;\n",
              "      width: 32px;\n",
              "    }\n",
              "\n",
              "    .colab-df-convert:hover {\n",
              "      background-color: #E2EBFA;\n",
              "      box-shadow: 0px 1px 2px rgba(60, 64, 67, 0.3), 0px 1px 3px 1px rgba(60, 64, 67, 0.15);\n",
              "      fill: #174EA6;\n",
              "    }\n",
              "\n",
              "    [theme=dark] .colab-df-convert {\n",
              "      background-color: #3B4455;\n",
              "      fill: #D2E3FC;\n",
              "    }\n",
              "\n",
              "    [theme=dark] .colab-df-convert:hover {\n",
              "      background-color: #434B5C;\n",
              "      box-shadow: 0px 1px 3px 1px rgba(0, 0, 0, 0.15);\n",
              "      filter: drop-shadow(0px 1px 2px rgba(0, 0, 0, 0.3));\n",
              "      fill: #FFFFFF;\n",
              "    }\n",
              "  </style>\n",
              "\n",
              "      <script>\n",
              "        const buttonEl =\n",
              "          document.querySelector('#df-7748d97c-85a3-4f7c-9a18-b392ff6d0993 button.colab-df-convert');\n",
              "        buttonEl.style.display =\n",
              "          google.colab.kernel.accessAllowed ? 'block' : 'none';\n",
              "\n",
              "        async function convertToInteractive(key) {\n",
              "          const element = document.querySelector('#df-7748d97c-85a3-4f7c-9a18-b392ff6d0993');\n",
              "          const dataTable =\n",
              "            await google.colab.kernel.invokeFunction('convertToInteractive',\n",
              "                                                     [key], {});\n",
              "          if (!dataTable) return;\n",
              "\n",
              "          const docLinkHtml = 'Like what you see? Visit the ' +\n",
              "            '<a target=\"_blank\" href=https://colab.research.google.com/notebooks/data_table.ipynb>data table notebook</a>'\n",
              "            + ' to learn more about interactive tables.';\n",
              "          element.innerHTML = '';\n",
              "          dataTable['output_type'] = 'display_data';\n",
              "          await google.colab.output.renderOutput(dataTable, element);\n",
              "          const docLink = document.createElement('div');\n",
              "          docLink.innerHTML = docLinkHtml;\n",
              "          element.appendChild(docLink);\n",
              "        }\n",
              "      </script>\n",
              "    </div>\n",
              "  </div>\n",
              "  "
            ]
          },
          "metadata": {},
          "execution_count": 5
        }
      ]
    },
    {
      "cell_type": "code",
      "source": [
        "X = train.drop([\"Loan_Status\"], axis=1)\n",
        "y = train[\"Loan_Status\"]"
      ],
      "metadata": {
        "id": "VVtXXf_wA2lC"
      },
      "execution_count": null,
      "outputs": []
    },
    {
      "cell_type": "code",
      "source": [
        "from sklearn.model_selection import train_test_split"
      ],
      "metadata": {
        "id": "cQvBq-3ABTEO"
      },
      "execution_count": null,
      "outputs": []
    },
    {
      "cell_type": "code",
      "source": [
        "X_train, X_test, y_train, y_test = train_test_split(X, y, test_size=0.35, random_state=42)"
      ],
      "metadata": {
        "id": "r4odrJl1B4OU"
      },
      "execution_count": null,
      "outputs": []
    },
    {
      "cell_type": "markdown",
      "source": [
        "# Models\n",
        "\n",
        "## Logistic Regression"
      ],
      "metadata": {
        "id": "JwIHkbu26-6i"
      }
    },
    {
      "cell_type": "code",
      "source": [
        "from sklearn.linear_model import LogisticRegression\n",
        "from sklearn.ensemble import RandomForestClassifier, GradientBoostingClassifier\n",
        "from sklearn.svm import SVC\n",
        "\n",
        "models = {\n",
        "    \"Logistic Regression\": {\n",
        "        \"model\": LogisticRegression,\n",
        "        \"params\" : dict(penalty='l2', C=1.0, class_weight='balanced', random_state=42, max_iter=1000)\n",
        "    },\n",
        "    \"Random Forest\": {\n",
        "        \"model\": RandomForestClassifier,\n",
        "        \"params\": dict(n_estimators=100, max_depth=5, class_weight='balanced', random_state=42)\n",
        "    },\n",
        "    \"SVM\": {\n",
        "        \"model\": SVC,\n",
        "        \"params\": dict(kernel='rbf', C=1.0, gamma='scale', class_weight='balanced', random_state=42, probability=True)\n",
        "    },\n",
        "    \"Gradient Boosting\": {\n",
        "        \"model\": GradientBoostingClassifier,\n",
        "        \"params\": dict(n_estimators=100, max_depth=5, learning_rate=0.1, subsample=0.8, random_state=42)\n",
        "    },\n",
        "}"
      ],
      "metadata": {
        "id": "vHlj7zUI7-UM"
      },
      "execution_count": null,
      "outputs": []
    },
    {
      "cell_type": "code",
      "source": [
        "set(train.columns) - set(test.columns)"
      ],
      "metadata": {
        "colab": {
          "base_uri": "https://localhost:8080/"
        },
        "id": "GACnaKgcOQ--",
        "outputId": "d18e4b3c-2d1b-46ff-b4ce-87fc2038d751"
      },
      "execution_count": null,
      "outputs": [
        {
          "output_type": "execute_result",
          "data": {
            "text/plain": [
              "{'Loan_Status'}"
            ]
          },
          "metadata": {},
          "execution_count": 10
        }
      ]
    },
    {
      "cell_type": "code",
      "source": [
        "from sklearn.metrics import accuracy_score\n",
        "from sklearn.model_selection import StratifiedKFold\n",
        "\n",
        "def cross_validation(model_name, model_class, model_params, splits=5):\n",
        "  mean = 0\n",
        "  kf = StratifiedKFold(n_splits=splits, shuffle=True)\n",
        "  for i, (idx_train, idx_test) in enumerate(kf.split(X, y)):\n",
        "    model = model_class(**model_params)\n",
        "    model.fit(\n",
        "        X.loc[idx_train],\n",
        "        y.loc[idx_train],\n",
        "    )\n",
        "    y_pred = model.predict(\n",
        "        X.loc[idx_test],\n",
        "    )\n",
        "    y_true = y.loc[idx_test]\n",
        "    accuracy = accuracy_score(y_pred, y_true) * 100\n",
        "    print(f\"[i] Iteration {i+1} :: {splits} of {model_name} == {accuracy:.4f}%\")\n",
        "    mean += accuracy / splits\n",
        "    yield {\"pred\" : y_pred, \"true\": y_true, \"test\": model.predict(test), \"probabilities\":model.predict_proba(X.loc[idx_test])[:, 1]}\n",
        "  print(f\"[i] Average Accuracy of {model_name}: {mean:.4f}%\")"
      ],
      "metadata": {
        "id": "Hh2fCBQ47Rpl"
      },
      "execution_count": null,
      "outputs": []
    },
    {
      "cell_type": "code",
      "source": [
        "result = {}\n",
        "for model_name in models:\n",
        "  result[model_name] = [*cross_validation(\n",
        "      model_name,\n",
        "      models[model_name][\"model\"],\n",
        "      models[model_name][\"params\"],\n",
        "  )]\n",
        "  print(\"-\" * 70)"
      ],
      "metadata": {
        "colab": {
          "base_uri": "https://localhost:8080/"
        },
        "id": "LTTK763GD21E",
        "outputId": "5ebc29e8-7b2a-4589-dfb1-99f5c8822297"
      },
      "execution_count": null,
      "outputs": [
        {
          "output_type": "stream",
          "name": "stdout",
          "text": [
            "[i] Iteration 1 :: 5 of Logistic Regression == 77.2358%\n",
            "[i] Iteration 2 :: 5 of Logistic Regression == 79.6748%\n",
            "[i] Iteration 3 :: 5 of Logistic Regression == 73.1707%\n",
            "[i] Iteration 4 :: 5 of Logistic Regression == 75.6098%\n",
            "[i] Iteration 5 :: 5 of Logistic Regression == 76.2295%\n",
            "[i] Average Accuracy of Logistic Regression: 76.3841%\n",
            "----------------------------------------------------------------------\n",
            "[i] Iteration 1 :: 5 of Random Forest == 75.6098%\n",
            "[i] Iteration 2 :: 5 of Random Forest == 82.1138%\n",
            "[i] Iteration 3 :: 5 of Random Forest == 85.3659%\n",
            "[i] Iteration 4 :: 5 of Random Forest == 82.9268%\n",
            "[i] Iteration 5 :: 5 of Random Forest == 79.5082%\n",
            "[i] Average Accuracy of Random Forest: 81.1049%\n",
            "----------------------------------------------------------------------\n",
            "[i] Iteration 1 :: 5 of SVM == 44.7154%\n",
            "[i] Iteration 2 :: 5 of SVM == 49.5935%\n",
            "[i] Iteration 3 :: 5 of SVM == 54.4715%\n",
            "[i] Iteration 4 :: 5 of SVM == 53.6585%\n",
            "[i] Iteration 5 :: 5 of SVM == 68.8525%\n",
            "[i] Average Accuracy of SVM: 54.2583%\n",
            "----------------------------------------------------------------------\n",
            "[i] Iteration 1 :: 5 of Gradient Boosting == 81.3008%\n",
            "[i] Iteration 2 :: 5 of Gradient Boosting == 76.4228%\n",
            "[i] Iteration 3 :: 5 of Gradient Boosting == 77.2358%\n",
            "[i] Iteration 4 :: 5 of Gradient Boosting == 73.9837%\n",
            "[i] Iteration 5 :: 5 of Gradient Boosting == 72.9508%\n",
            "[i] Average Accuracy of Gradient Boosting: 76.3788%\n",
            "----------------------------------------------------------------------\n"
          ]
        }
      ]
    },
    {
      "cell_type": "code",
      "source": [
        "from sklearn.metrics import roc_curve, auc, roc_auc_score\n",
        "\n",
        "colors = ['red', 'blue', 'green', 'purple', 'orange']\n",
        "\n",
        "def plot_roc_curve(true_values, prob_values, axis):\n",
        "  for j, (true, prob) in enumerate(zip(true_values, prob_values)):\n",
        "      tpr, fpr, _ = roc_curve(true, prob)\n",
        "      # calculate area under the ROC curve (AUC)\n",
        "      roc_auc = auc(tpr, fpr)\n",
        "      \n",
        "      # plot the ROC curve\n",
        "      axis.plot(tpr, fpr, color=colors[j], lw=2, label=f'ROC curve (AUC = {roc_auc:.2f})')\n",
        "\n",
        "  return [roc_auc_score(true, prob) for true, prob in zip(true_values, prob_values)]"
      ],
      "metadata": {
        "id": "PewzhUIyXRUd"
      },
      "execution_count": null,
      "outputs": []
    },
    {
      "cell_type": "code",
      "source": [
        "import matplotlib.pyplot as plt\n",
        "\n",
        "fig, axes = plt.subplots(1, len(result), figsize=(20, 4))\n",
        "\n",
        "colors = ['red', 'blue', 'green', 'purple', 'orange']\n",
        "\n",
        "\n",
        "for i, (model_name, output) in enumerate(result.items()):\n",
        "  axes[i].set_title(model_name)\n",
        "  for out in output:\n",
        "    scores = plot_roc_curve(\n",
        "        true_values = [result[model_name][i][\"true\"] for i in range(len(result[model_name]))],\n",
        "        prob_values = [result[model_name][i][\"probabilities\"] for i in range(len(result[model_name]))],\n",
        "        axis=axes[i]\n",
        "    )\n",
        "  print(f\"-------\\t {model_name} \\t-------\")\n",
        "  score_format = \"{:.2f}\\t\" * len(scores)\n",
        "  print(score_format.format(*scores))\n",
        "  print(\"Average AUC: \", sum(scores) / len(scores))\n",
        "\n",
        "fig.tight_layout()"
      ],
      "metadata": {
        "colab": {
          "base_uri": "https://localhost:8080/",
          "height": 492
        },
        "id": "297KbMSARZtT",
        "outputId": "b60756e5-69ee-4ca5-879b-9f1827ded47c"
      },
      "execution_count": null,
      "outputs": [
        {
          "output_type": "stream",
          "name": "stdout",
          "text": [
            "-------\t Logistic Regression \t-------\n",
            "0.73\t0.81\t0.63\t0.74\t0.73\t\n",
            "Average AUC:  0.7295973153093895\n",
            "-------\t Random Forest \t-------\n",
            "0.68\t0.78\t0.89\t0.76\t0.72\t\n",
            "Average AUC:  0.7654752265278582\n",
            "-------\t SVM \t-------\n",
            "0.60\t0.48\t0.56\t0.48\t0.43\t\n",
            "Average AUC:  0.5100470822607045\n",
            "-------\t Gradient Boosting \t-------\n",
            "0.82\t0.66\t0.83\t0.71\t0.77\t\n",
            "Average AUC:  0.7560019770391287\n"
          ]
        },
        {
          "output_type": "display_data",
          "data": {
            "text/plain": [
              "<Figure size 2000x400 with 4 Axes>"
            ],
            "image/png": "[encoded data removed]"
          },
          "metadata": {}
        }
      ]
    },
    {
      "cell_type": "code",
      "source": [
        "columns = [f\"{model_name}-{i}\" for model_name in result for i in range(5)]\n",
        "\n",
        "df_export = pd.DataFrame(columns=columns)\n",
        "\n",
        "for model_name, values in result.items():\n",
        "  for i, value in enumerate(values):\n",
        "    df_export[f\"{model_name}-{i}\"] = value[\"test\"]\n",
        "\n",
        "df_export.to_csv(DATASET_PATH_FMT.format(\"result.csv\"))"
      ],
      "metadata": {
        "id": "_T8LGMbLbXno"
      },
      "execution_count": null,
      "outputs": []
    }
  ]
}